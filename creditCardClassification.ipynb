{
  "cells": [
    {
      "cell_type": "code",
      "metadata": {},
      "source": [
        "# Imports\n",
        "## linear algebra\n",
        "import numpy as np\n",
        "## csv IO\n",
        "import pandas as pd\n",
        "## graph plotting\n",
        "import matplotlib.pyplot as plt\n",
        "## ???\n",
        "import seaborn as sns\n",
        "## timing\n",
        "import time\n",
        "\n",
        "# Classifiers\n",
        "## DecisionTree\n",
        "from sklearn.tree import DecisionTreeClassifier\n",
        "## ???\n",
        "from sklearn.linear_model import LogisticRegression\n",
        "## SVM with kernal capabilitys\n",
        "from sklearn.svm import SVC\n",
        "## KNN\n",
        "from sklearn.neighbors import KNeighborsClassifier\n",
        "## DecisionTree\n",
        "from sklearn.tree import DecisionTreeClassifier\n",
        "## ???\n",
        "from sklearn.ensemble import RandomForestClassifier\n",
        "## Adaboost\n",
        "from sklearn.ensemble import AdaBoostClassifier\n",
        "\n",
        "# Data and result analysis\n",
        "## classification accuracy scores\n",
        "from sklearn.metrics import precision_score, recall_score, f1_score, roc_auc_score, accuracy_score, classification_report\n",
        "## training and testing data generation\n",
        "from sklearn.model_selection import KFold, StratifiedKFold"
      ],
      "outputs": [],
      "execution_count": null
    },
    {
      "cell_type": "code",
      "metadata": {},
      "source": [
        "# Import Data\n",
        "df = pd.read_csv('./creditcard.csv')"
      ],
      "outputs": [],
      "execution_count": null
    },
    {
      "cell_type": "code",
      "metadata": {},
      "source": [
        "# Examine Data\n",
        "## Examine the data for irregularitys\n",
        "print(df.head())\n",
        "print(df.describe())\n",
        "if df.isnull().sum().max() > 0:\n",
        "    print(\"Null values detected\")\n",
        "print(df.columns)\n",
        "\n",
        "## Examine the class to class ratio\n",
        "class0ratio = round(df['Class'].value_counts()[0]/len(df) * 100, 2)\n",
        "class1ratio = round(df['Class'].value_counts()[1]/len(df) * 100, 2)\n",
        "print('Class 0', class0ratio, '% of the dataset')\n",
        "print('Class 1', class1ratio, '% of the dataset')"
      ],
      "outputs": [],
      "execution_count": null
    },
    {
      "cell_type": "code",
      "metadata": {},
      "source": [
        "# Scale any part of the dataset that needs to be"
      ],
      "outputs": [],
      "execution_count": null
    },
    {
      "cell_type": "code",
      "metadata": {},
      "source": [
        "# Split the testing data for later use\n",
        "## get the X and Y values\n",
        "X = df.drop('Class', axis=1)\n",
        "y = df['Class']\n",
        "\n",
        "## use \n",
        "skf = StratifiedKFold(n_splits=5, random_state=None, shuffle=False)\n",
        "for X_indices, Y_indicies in skf.split(X,y):\n",
        "    print(\"Train:\", train_index, \"Test:\", test_index)\n",
        "    original_Xtrain, original_Xtest = X.iloc[train_index], X.iloc[test_index]\n",
        "    original_ytrain, original_ytest = y.iloc[train_index], y.iloc[test_index]\n",
        "##\n"
      ],
      "outputs": [],
      "execution_count": null
    }
  ],
  "metadata": {
    "anaconda-cloud": {},
    "kernelspec": {
      "display_name": "Python 3",
      "language": "python",
      "name": "python3"
    },
    "language_info": {
      "codemirror_mode": {
        "name": "ipython",
        "version": 3
      },
      "file_extension": ".py",
      "mimetype": "text/x-python",
      "name": "python",
      "nbconvert_exporter": "python",
      "pygments_lexer": "ipython3",
      "version": "3.6.1"
    }
  },
  "nbformat": 4,
  "nbformat_minor": 1
}